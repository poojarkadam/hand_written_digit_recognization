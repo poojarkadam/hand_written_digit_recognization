{
 "cells": [
  {
   "cell_type": "code",
   "execution_count": 4,
   "id": "6a00d9c8",
   "metadata": {},
   "outputs": [
    {
     "name": "stdout",
     "output_type": "stream",
     "text": [
      "Collecting tensorflow\n",
      "  Downloading tensorflow-2.6.0-cp38-cp38-macosx_10_11_x86_64.whl (199.0 MB)\n",
      "\u001b[K     |████████████████████████████████| 199.0 MB 23 kB/s  eta 0:00:01   |▌                               | 2.9 MB 2.2 MB/s eta 0:01:31     |█▌                              | 9.7 MB 4.2 MB/s eta 0:00:46     |██▋                             | 16.2 MB 3.5 MB/s eta 0:00:52     |██████████▊                     | 66.8 MB 2.0 MB/s eta 0:01:06     |███████████▎                    | 69.8 MB 1.2 MB/s eta 0:01:50     |███████████████████████████▌    | 171.0 MB 1.7 MB/s eta 0:00:17     |████████████████████████████▌   | 177.1 MB 3.5 MB/s eta 0:00:07\n",
      "\u001b[?25hCollecting numpy~=1.19.2\n",
      "  Downloading numpy-1.19.5-cp38-cp38-macosx_10_9_x86_64.whl (15.6 MB)\n",
      "\u001b[K     |████████████████████████████████| 15.6 MB 4.1 MB/s eta 0:00:01\n",
      "\u001b[?25hCollecting keras~=2.6\n",
      "  Downloading keras-2.6.0-py2.py3-none-any.whl (1.3 MB)\n",
      "\u001b[K     |████████████████████████████████| 1.3 MB 3.3 MB/s eta 0:00:01\n",
      "\u001b[?25hCollecting protobuf>=3.9.2\n",
      "  Downloading protobuf-3.17.3-cp38-cp38-macosx_10_9_x86_64.whl (1.0 MB)\n",
      "\u001b[K     |████████████████████████████████| 1.0 MB 5.2 MB/s eta 0:00:01\n",
      "\u001b[?25hCollecting tensorflow-estimator~=2.6\n",
      "  Downloading tensorflow_estimator-2.6.0-py2.py3-none-any.whl (462 kB)\n",
      "\u001b[K     |████████████████████████████████| 462 kB 4.9 MB/s eta 0:00:01\n",
      "\u001b[?25hRequirement already satisfied: six~=1.15.0 in /usr/local/anaconda3/lib/python3.8/site-packages (from tensorflow) (1.15.0)\n",
      "Collecting h5py~=3.1.0\n",
      "  Downloading h5py-3.1.0-cp38-cp38-macosx_10_9_x86_64.whl (2.9 MB)\n",
      "\u001b[K     |████████████████████████████████| 2.9 MB 5.0 MB/s eta 0:00:01\n",
      "\u001b[?25hCollecting opt-einsum~=3.3.0\n",
      "  Downloading opt_einsum-3.3.0-py3-none-any.whl (65 kB)\n",
      "\u001b[K     |████████████████████████████████| 65 kB 1.5 MB/s eta 0:00:01\n",
      "\u001b[?25hRequirement already satisfied: wheel~=0.35 in /usr/local/anaconda3/lib/python3.8/site-packages (from tensorflow) (0.36.2)\n",
      "Collecting keras-preprocessing~=1.1.2\n",
      "  Downloading Keras_Preprocessing-1.1.2-py2.py3-none-any.whl (42 kB)\n",
      "\u001b[K     |████████████████████████████████| 42 kB 1.7 MB/s eta 0:00:01\n",
      "\u001b[?25hCollecting tensorboard~=2.6\n",
      "  Downloading tensorboard-2.6.0-py3-none-any.whl (5.6 MB)\n",
      "\u001b[K     |████████████████████████████████| 5.6 MB 4.2 MB/s eta 0:00:01\n",
      "\u001b[?25hCollecting termcolor~=1.1.0\n",
      "  Downloading termcolor-1.1.0.tar.gz (3.9 kB)\n",
      "Collecting google-pasta~=0.2\n",
      "  Downloading google_pasta-0.2.0-py3-none-any.whl (57 kB)\n",
      "\u001b[K     |████████████████████████████████| 57 kB 3.8 MB/s eta 0:00:01\n",
      "\u001b[?25hCollecting clang~=5.0\n",
      "  Downloading clang-5.0.tar.gz (30 kB)\n",
      "Collecting flatbuffers~=1.12.0\n",
      "  Downloading flatbuffers-1.12-py2.py3-none-any.whl (15 kB)\n",
      "Collecting gast==0.4.0\n",
      "  Downloading gast-0.4.0-py3-none-any.whl (9.8 kB)\n",
      "Requirement already satisfied: typing-extensions~=3.7.4 in /usr/local/anaconda3/lib/python3.8/site-packages (from tensorflow) (3.7.4.3)\n",
      "Collecting absl-py~=0.10\n",
      "  Downloading absl_py-0.13.0-py3-none-any.whl (132 kB)\n",
      "\u001b[K     |████████████████████████████████| 132 kB 5.6 MB/s eta 0:00:01\n",
      "\u001b[?25hCollecting grpcio<2.0,>=1.37.0\n",
      "  Downloading grpcio-1.39.0-cp38-cp38-macosx_10_10_x86_64.whl (3.9 MB)\n",
      "\u001b[K     |████████████████████████████████| 3.9 MB 4.6 MB/s eta 0:00:01\n",
      "\u001b[?25hRequirement already satisfied: wrapt~=1.12.1 in /usr/local/anaconda3/lib/python3.8/site-packages (from tensorflow) (1.12.1)\n",
      "Collecting astunparse~=1.6.3\n",
      "  Downloading astunparse-1.6.3-py2.py3-none-any.whl (12 kB)\n",
      "Collecting google-auth<2,>=1.6.3\n",
      "  Downloading google_auth-1.35.0-py2.py3-none-any.whl (152 kB)\n",
      "\u001b[K     |████████████████████████████████| 152 kB 5.5 MB/s eta 0:00:01\n",
      "\u001b[?25hCollecting google-auth-oauthlib<0.5,>=0.4.1\n",
      "  Downloading google_auth_oauthlib-0.4.5-py2.py3-none-any.whl (18 kB)\n",
      "Requirement already satisfied: setuptools>=41.0.0 in /usr/local/anaconda3/lib/python3.8/site-packages (from tensorboard~=2.6->tensorflow) (52.0.0.post20210125)\n",
      "Collecting markdown>=2.6.8\n",
      "  Downloading Markdown-3.3.4-py3-none-any.whl (97 kB)\n",
      "\u001b[K     |████████████████████████████████| 97 kB 2.1 MB/s eta 0:00:011\n",
      "\u001b[?25hRequirement already satisfied: werkzeug>=0.11.15 in /usr/local/anaconda3/lib/python3.8/site-packages (from tensorboard~=2.6->tensorflow) (1.0.1)\n",
      "Collecting tensorboard-data-server<0.7.0,>=0.6.0\n",
      "  Downloading tensorboard_data_server-0.6.1-py3-none-macosx_10_9_x86_64.whl (3.5 MB)\n",
      "\u001b[K     |████████████████████████████████| 3.5 MB 6.0 MB/s eta 0:00:01     |█████████▍                      | 1.0 MB 6.0 MB/s eta 0:00:01\n",
      "\u001b[?25hCollecting tensorboard-plugin-wit>=1.6.0\n",
      "  Downloading tensorboard_plugin_wit-1.8.0-py3-none-any.whl (781 kB)\n",
      "\u001b[K     |████████████████████████████████| 781 kB 4.9 MB/s eta 0:00:01\n",
      "\u001b[?25hRequirement already satisfied: requests<3,>=2.21.0 in /usr/local/anaconda3/lib/python3.8/site-packages (from tensorboard~=2.6->tensorflow) (2.25.1)\n",
      "Collecting rsa<5,>=3.1.4\n",
      "  Downloading rsa-4.7.2-py3-none-any.whl (34 kB)\n",
      "Collecting cachetools<5.0,>=2.0.0\n",
      "  Downloading cachetools-4.2.2-py3-none-any.whl (11 kB)\n",
      "Collecting pyasn1-modules>=0.2.1\n",
      "  Downloading pyasn1_modules-0.2.8-py2.py3-none-any.whl (155 kB)\n",
      "\u001b[K     |████████████████████████████████| 155 kB 1.2 MB/s eta 0:00:01\n",
      "\u001b[?25hCollecting requests-oauthlib>=0.7.0\n",
      "  Downloading requests_oauthlib-1.3.0-py2.py3-none-any.whl (23 kB)\n",
      "Collecting pyasn1<0.5.0,>=0.4.6\n",
      "  Downloading pyasn1-0.4.8-py2.py3-none-any.whl (77 kB)\n",
      "\u001b[K     |████████████████████████████████| 77 kB 2.1 MB/s eta 0:00:01\n",
      "\u001b[?25hRequirement already satisfied: certifi>=2017.4.17 in /usr/local/anaconda3/lib/python3.8/site-packages (from requests<3,>=2.21.0->tensorboard~=2.6->tensorflow) (2020.12.5)\n",
      "Requirement already satisfied: idna<3,>=2.5 in /usr/local/anaconda3/lib/python3.8/site-packages (from requests<3,>=2.21.0->tensorboard~=2.6->tensorflow) (2.10)\n",
      "Requirement already satisfied: urllib3<1.27,>=1.21.1 in /usr/local/anaconda3/lib/python3.8/site-packages (from requests<3,>=2.21.0->tensorboard~=2.6->tensorflow) (1.26.4)\n",
      "Requirement already satisfied: chardet<5,>=3.0.2 in /usr/local/anaconda3/lib/python3.8/site-packages (from requests<3,>=2.21.0->tensorboard~=2.6->tensorflow) (4.0.0)\n",
      "Collecting oauthlib>=3.0.0\n",
      "  Downloading oauthlib-3.1.1-py2.py3-none-any.whl (146 kB)\n",
      "\u001b[K     |████████████████████████████████| 146 kB 2.3 MB/s eta 0:00:01\n",
      "\u001b[?25hBuilding wheels for collected packages: clang, termcolor\n",
      "  Building wheel for clang (setup.py) ... \u001b[?25ldone\n",
      "\u001b[?25h  Created wheel for clang: filename=clang-5.0-py3-none-any.whl size=30702 sha256=444aabc5748a8370d2229a550475b6eb44c01e81740be7b10231a0cc846569c9\n",
      "  Stored in directory: /Users/kodandaramadurgaraopoluri/Library/Caches/pip/wheels/f1/60/77/22b9b5887bd47801796a856f47650d9789c74dc3161a26d608\n",
      "  Building wheel for termcolor (setup.py) ... \u001b[?25ldone\n",
      "\u001b[?25h  Created wheel for termcolor: filename=termcolor-1.1.0-py3-none-any.whl size=4829 sha256=8f06c009b50ff58877f953917109a288f5b3972f036a340ef6d6b201e018c6b8\n",
      "  Stored in directory: /Users/kodandaramadurgaraopoluri/Library/Caches/pip/wheels/a0/16/9c/5473df82468f958445479c59e784896fa24f4a5fc024b0f501\n",
      "Successfully built clang termcolor\n",
      "Installing collected packages: pyasn1, rsa, pyasn1-modules, oauthlib, cachetools, requests-oauthlib, google-auth, tensorboard-plugin-wit, tensorboard-data-server, protobuf, numpy, markdown, grpcio, google-auth-oauthlib, absl-py, termcolor, tensorflow-estimator, tensorboard, opt-einsum, keras-preprocessing, keras, h5py, google-pasta, gast, flatbuffers, clang, astunparse, tensorflow\n",
      "  Attempting uninstall: numpy\n",
      "    Found existing installation: numpy 1.20.1\n",
      "    Uninstalling numpy-1.20.1:\n",
      "      Successfully uninstalled numpy-1.20.1\n",
      "  Attempting uninstall: h5py\n",
      "    Found existing installation: h5py 2.10.0\n",
      "    Uninstalling h5py-2.10.0:\n",
      "      Successfully uninstalled h5py-2.10.0\n",
      "Successfully installed absl-py-0.13.0 astunparse-1.6.3 cachetools-4.2.2 clang-5.0 flatbuffers-1.12 gast-0.4.0 google-auth-1.35.0 google-auth-oauthlib-0.4.5 google-pasta-0.2.0 grpcio-1.39.0 h5py-3.1.0 keras-2.6.0 keras-preprocessing-1.1.2 markdown-3.3.4 numpy-1.19.5 oauthlib-3.1.1 opt-einsum-3.3.0 protobuf-3.17.3 pyasn1-0.4.8 pyasn1-modules-0.2.8 requests-oauthlib-1.3.0 rsa-4.7.2 tensorboard-2.6.0 tensorboard-data-server-0.6.1 tensorboard-plugin-wit-1.8.0 tensorflow-2.6.0 tensorflow-estimator-2.6.0 termcolor-1.1.0\n"
     ]
    }
   ],
   "source": [
    "#!pip install tensorflow"
   ]
  },
  {
   "cell_type": "code",
   "execution_count": 2,
   "id": "85413195",
   "metadata": {},
   "outputs": [],
   "source": [
    "import matplotlib.pyplot as plt\n",
    "import numpy as np\n",
    "import tensorflow as tf\n",
    "from sklearn.neural_network import MLPClassifier\n",
    "from sklearn.model_selection import train_test_split\n",
    "from sklearn.metrics import classification_report\n",
    "from sklearn import svm"
   ]
  },
  {
   "cell_type": "code",
   "execution_count": 3,
   "id": "ed6ba464",
   "metadata": {},
   "outputs": [],
   "source": [
    "mnist = tf.keras.datasets.mnist.load_data()\n",
    "(x_train, y_train), (x_test, y_test) = mnist"
   ]
  },
  {
   "cell_type": "code",
   "execution_count": 4,
   "id": "fc0c1cec",
   "metadata": {},
   "outputs": [
    {
     "data": {
      "text/plain": [
       "((60000, 28, 28), (10000, 28, 28), (60000,), (10000,))"
      ]
     },
     "execution_count": 4,
     "metadata": {},
     "output_type": "execute_result"
    }
   ],
   "source": [
    "x_train.shape, x_test.shape, y_train.shape, y_test.shape"
   ]
  },
  {
   "cell_type": "code",
   "execution_count": 5,
   "id": "10d998b3",
   "metadata": {},
   "outputs": [
    {
     "data": {
      "text/plain": [
       "(10, 10)"
      ]
     },
     "execution_count": 5,
     "metadata": {},
     "output_type": "execute_result"
    }
   ],
   "source": [
    "len(np.unique(y_train)), len(np.unique(y_test))"
   ]
  },
  {
   "cell_type": "code",
   "execution_count": 6,
   "id": "9a85b27a",
   "metadata": {},
   "outputs": [
    {
     "data": {
      "text/plain": [
       "<matplotlib.image.AxesImage at 0x7fa77e177130>"
      ]
     },
     "execution_count": 6,
     "metadata": {},
     "output_type": "execute_result"
    },
    {
     "data": {
      "image/png": "[encoded data removed]",
      "text/plain": [
       "<Figure size 432x288 with 1 Axes>"
      ]
     },
     "metadata": {
      "needs_background": "light"
     },
     "output_type": "display_data"
    }
   ],
   "source": [
    "plt.imshow(x_train[0].reshape((28,28)))"
   ]
  },
  {
   "cell_type": "code",
   "execution_count": 8,
   "id": "2afe2541",
   "metadata": {},
   "outputs": [],
   "source": [
    "x_train = x_train.reshape(x_train.shape[0], x_train.shape[1] * x_train.shape[2])\n",
    "x_test = x_test.reshape(x_test.shape[0], x_test.shape[1] * x_test.shape[2])"
   ]
  },
  {
   "cell_type": "code",
   "execution_count": 9,
   "id": "4f91b4e0",
   "metadata": {},
   "outputs": [
    {
     "name": "stdout",
     "output_type": "stream",
     "text": [
      "Iteration 1, loss = 1.13694312\n",
      "Validation score: 0.931333\n",
      "Iteration 2, loss = 0.19373975\n",
      "Validation score: 0.951167\n",
      "Iteration 3, loss = 0.11598191\n",
      "Validation score: 0.954833\n",
      "Iteration 4, loss = 0.09469331\n",
      "Validation score: 0.954000\n",
      "Iteration 5, loss = 0.08173381\n",
      "Validation score: 0.964167\n",
      "Iteration 6, loss = 0.07052791\n",
      "Validation score: 0.961667\n",
      "Iteration 7, loss = 0.07733600\n",
      "Validation score: 0.962500\n",
      "Iteration 8, loss = 0.06073566\n",
      "Validation score: 0.968000\n",
      "Iteration 9, loss = 0.06676923\n",
      "Validation score: 0.960500\n",
      "Iteration 10, loss = 0.06405030\n",
      "Validation score: 0.959500\n",
      "Iteration 11, loss = 0.05801188\n",
      "Validation score: 0.969167\n",
      "Iteration 12, loss = 0.04658913\n",
      "Validation score: 0.967833\n",
      "Iteration 13, loss = 0.04685538\n",
      "Validation score: 0.971833\n",
      "Iteration 14, loss = 0.04314696\n",
      "Validation score: 0.973333\n",
      "Iteration 15, loss = 0.04470660\n",
      "Validation score: 0.972833\n",
      "Iteration 16, loss = 0.03945599\n",
      "Validation score: 0.970167\n",
      "Iteration 17, loss = 0.03780590\n",
      "Validation score: 0.970000\n",
      "Iteration 18, loss = 0.04571319\n",
      "Validation score: 0.973500\n",
      "Iteration 19, loss = 0.03451801\n",
      "Validation score: 0.974833\n",
      "Iteration 20, loss = 0.03168804\n",
      "Validation score: 0.974333\n",
      "Iteration 21, loss = 0.02835087\n",
      "Validation score: 0.976667\n",
      "Iteration 22, loss = 0.02512601\n",
      "Validation score: 0.973333\n",
      "Iteration 23, loss = 0.02969226\n",
      "Validation score: 0.975333\n",
      "Iteration 24, loss = 0.02704452\n",
      "Validation score: 0.975000\n",
      "Iteration 25, loss = 0.02827481\n",
      "Validation score: 0.972667\n",
      "Iteration 26, loss = 0.02508322\n",
      "Validation score: 0.975000\n",
      "Iteration 27, loss = 0.02408842\n",
      "Validation score: 0.974500\n",
      "Iteration 28, loss = 0.02071553\n",
      "Validation score: 0.975833\n",
      "Iteration 29, loss = 0.02506316\n",
      "Validation score: 0.970333\n",
      "Iteration 30, loss = 0.03402514\n",
      "Validation score: 0.976167\n",
      "Iteration 31, loss = 0.01953052\n",
      "Validation score: 0.976333\n",
      "Iteration 32, loss = 0.02053360\n",
      "Validation score: 0.976833\n",
      "Iteration 33, loss = 0.01927965\n",
      "Validation score: 0.977500\n",
      "Iteration 34, loss = 0.02169540\n",
      "Validation score: 0.974333\n",
      "Iteration 35, loss = 0.01510446\n",
      "Validation score: 0.977500\n",
      "Iteration 36, loss = 0.02912154\n",
      "Validation score: 0.973167\n",
      "Iteration 37, loss = 0.02009803\n",
      "Validation score: 0.978500\n",
      "Iteration 38, loss = 0.01286189\n",
      "Validation score: 0.977500\n",
      "Iteration 39, loss = 0.01607690\n",
      "Validation score: 0.977667\n",
      "Iteration 40, loss = 0.01582235\n",
      "Validation score: 0.978667\n",
      "Iteration 41, loss = 0.01955055\n",
      "Validation score: 0.974667\n",
      "Iteration 42, loss = 0.02288633\n",
      "Validation score: 0.978167\n",
      "Iteration 43, loss = 0.01231799\n",
      "Validation score: 0.977333\n",
      "Iteration 44, loss = 0.02083348\n",
      "Validation score: 0.977667\n",
      "Iteration 45, loss = 0.01445021\n",
      "Validation score: 0.975667\n",
      "Iteration 46, loss = 0.01697414\n",
      "Validation score: 0.976333\n",
      "Iteration 47, loss = 0.01478638\n",
      "Validation score: 0.974000\n",
      "Iteration 48, loss = 0.02338705\n",
      "Validation score: 0.976000\n",
      "Iteration 49, loss = 0.01177655\n",
      "Validation score: 0.978333\n",
      "Iteration 50, loss = 0.00932234\n",
      "Validation score: 0.977167\n",
      "Iteration 51, loss = 0.02366994\n",
      "Validation score: 0.973667\n",
      "Validation score did not improve more than tol=0.000100 for 10 consecutive epochs. Stopping.\n"
     ]
    },
    {
     "data": {
      "text/plain": [
       "MLPClassifier(batch_size=128, early_stopping=True,\n",
       "              hidden_layer_sizes=(512, 256, 128), verbose=True)"
      ]
     },
     "execution_count": 9,
     "metadata": {},
     "output_type": "execute_result"
    }
   ],
   "source": [
    "model = MLPClassifier(hidden_layer_sizes = (512, 256, 128 ), batch_size = 128, verbose = True, early_stopping = True)\n",
    "model.fit(x_train, y_train)"
   ]
  },
  {
   "cell_type": "code",
   "execution_count": 10,
   "id": "227c663e",
   "metadata": {},
   "outputs": [
    {
     "name": "stdout",
     "output_type": "stream",
     "text": [
      "              precision    recall  f1-score   support\n",
      "\n",
      "           0       0.99      0.97      0.98      1002\n",
      "           1       0.99      0.99      0.99      1133\n",
      "           2       0.98      0.98      0.98      1028\n",
      "           3       0.98      0.98      0.98      1003\n",
      "           4       0.98      0.98      0.98       986\n",
      "           5       0.96      0.98      0.97       878\n",
      "           6       0.98      0.99      0.98       953\n",
      "           7       0.98      0.99      0.98      1020\n",
      "           8       0.96      0.97      0.96       958\n",
      "           9       0.98      0.95      0.96      1039\n",
      "\n",
      "    accuracy                           0.98     10000\n",
      "   macro avg       0.98      0.98      0.98     10000\n",
      "weighted avg       0.98      0.98      0.98     10000\n",
      "\n"
     ]
    }
   ],
   "source": [
    "y_pred = model.predict(x_test)\n",
    "print(classification_report(y_pred, y_test))"
   ]
  },
  {
   "cell_type": "code",
   "execution_count": 11,
   "id": "ea7ddda7",
   "metadata": {},
   "outputs": [
    {
     "data": {
      "text/plain": [
       "SVC(decision_function_shape='ovo')"
      ]
     },
     "execution_count": 11,
     "metadata": {},
     "output_type": "execute_result"
    }
   ],
   "source": [
    "model = svm.SVC(decision_function_shape='ovo')\n",
    "model.fit(x_train, y_train)"
   ]
  },
  {
   "cell_type": "code",
   "execution_count": 13,
   "id": "66a10ac9",
   "metadata": {},
   "outputs": [
    {
     "name": "stdout",
     "output_type": "stream",
     "text": [
      "              precision    recall  f1-score   support\n",
      "\n",
      "           0       0.99      0.98      0.99       993\n",
      "           1       0.99      0.99      0.99      1139\n",
      "           2       0.97      0.98      0.98      1031\n",
      "           3       0.99      0.97      0.98      1021\n",
      "           4       0.98      0.98      0.98       978\n",
      "           5       0.98      0.99      0.98       883\n",
      "           6       0.99      0.99      0.99       958\n",
      "           7       0.97      0.98      0.97      1021\n",
      "           8       0.98      0.97      0.97       978\n",
      "           9       0.96      0.97      0.97       998\n",
      "\n",
      "    accuracy                           0.98     10000\n",
      "   macro avg       0.98      0.98      0.98     10000\n",
      "weighted avg       0.98      0.98      0.98     10000\n",
      "\n"
     ]
    }
   ],
   "source": [
    "y_pred_svm = model.predict(x_test)\n",
    "print(classification_report(y_pred_svm, y_test))"
   ]
  },
  {
   "cell_type": "code",
   "execution_count": null,
   "id": "3cac2543",
   "metadata": {},
   "outputs": [],
   "source": []
  }
 ],
 "metadata": {
  "kernelspec": {
   "display_name": "Python 3",
   "language": "python",
   "name": "python3"
  },
  "language_info": {
   "codemirror_mode": {
    "name": "ipython",
    "version": 3
   },
   "file_extension": ".py",
   "mimetype": "text/x-python",
   "name": "python",
   "nbconvert_exporter": "python",
   "pygments_lexer": "ipython3",
   "version": "3.8.8"
  }
 },
 "nbformat": 4,
 "nbformat_minor": 5
}
